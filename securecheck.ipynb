{
 "cells": [
  {
   "cell_type": "markdown",
   "id": "f125316f",
   "metadata": {},
   "source": [
    "*Read the data "
   ]
  },
  {
   "cell_type": "code",
   "execution_count": 147,
   "id": "07b0378b",
   "metadata": {},
   "outputs": [],
   "source": [
    "import pandas as pd\n",
    "import mysql.connector\n",
    "from datetime import datetime\n",
    "\n",
    "#step 1: Load the CSV file\n",
    "file_path=r\"C:\\Users\\Balasubramanian\\Downloads\\policelog\\traffic_stops - traffic_stops_with_vehicle_number.csv\"\n",
    "df = pd.read_csv(file_path, low_memory=False)"
   ]
  },
  {
   "cell_type": "code",
   "execution_count": 148,
   "id": "ad41af84",
   "metadata": {},
   "outputs": [
    {
     "name": "stdout",
     "output_type": "stream",
     "text": [
      "stop_date             object\n",
      "stop_time             object\n",
      "country_name          object\n",
      "driver_gender         object\n",
      "driver_age_raw         int64\n",
      "driver_age             int64\n",
      "driver_race           object\n",
      "violation_raw         object\n",
      "violation             object\n",
      "search_conducted        bool\n",
      "search_type           object\n",
      "stop_outcome          object\n",
      "is_arrested             bool\n",
      "stop_duration         object\n",
      "drugs_related_stop      bool\n",
      "vehicle_number        object\n",
      "dtype: object\n"
     ]
    }
   ],
   "source": [
    "print(df.dtypes)\n",
    "\n"
   ]
  },
  {
   "cell_type": "code",
   "execution_count": 149,
   "id": "5095bbf0",
   "metadata": {},
   "outputs": [
    {
     "name": "stdout",
     "output_type": "stream",
     "text": [
      "stop_date                 0\n",
      "stop_time                 0\n",
      "country_name              0\n",
      "driver_gender             0\n",
      "driver_age_raw            0\n",
      "driver_age                0\n",
      "driver_race               0\n",
      "violation_raw             0\n",
      "violation                 0\n",
      "search_conducted          0\n",
      "search_type           21720\n",
      "stop_outcome              0\n",
      "is_arrested               0\n",
      "stop_duration             0\n",
      "drugs_related_stop        0\n",
      "vehicle_number            0\n",
      "dtype: int64\n"
     ]
    }
   ],
   "source": [
    "print(df.isnull().sum())\n"
   ]
  },
  {
   "cell_type": "code",
   "execution_count": 150,
   "id": "ff86a013",
   "metadata": {},
   "outputs": [
    {
     "name": "stdout",
     "output_type": "stream",
     "text": [
      "Total rows in dataset: 65538\n"
     ]
    }
   ],
   "source": [
    "print(f\"Total rows in dataset: {len(df)}\")"
   ]
  },
  {
   "cell_type": "code",
   "execution_count": 151,
   "id": "4afb1557",
   "metadata": {},
   "outputs": [],
   "source": [
    "#step 2: Data Cleaning\n",
    "\n",
    "# Drop columns with missing values\n",
    "df.dropna(axis=1, how='any', inplace=True)\n",
    "# Fill NaN values with suitable defaults\n",
    "df.fillna({\n",
    "    'driver_age':df['driver_age'].median(),\n",
    "    'search_type': 'None',\n",
    "    'stop_duration': 'Unknown',\n",
    "    'violation': 'Unknown',\n",
    "    'stop_outcome': 'Unknown',\n",
    "}, inplace=True)\n",
    "\n",
    "# Convert to proper datetime object (date only)\n",
    "df['stop_date'] = pd.to_datetime(df['stop_date'], format='%Y-%m-%d', errors='coerce')\n",
    "\n",
    "# Convert time part to datetime.time\n",
    "df['stop_time'] = pd.to_datetime(df['stop_time'], format='%H:%M:%S', errors='coerce').dt.time\n",
    "\n",
    "\n",
    " "
   ]
  },
  {
   "cell_type": "code",
   "execution_count": 152,
   "id": "8aae9ce9",
   "metadata": {},
   "outputs": [
    {
     "name": "stdout",
     "output_type": "stream",
     "text": [
      "<class 'datetime.time'>\n"
     ]
    }
   ],
   "source": [
    "print(type(df['stop_time'].iloc[0]))  # Should show: <class 'datetime.time'>"
   ]
  },
  {
   "cell_type": "code",
   "execution_count": 153,
   "id": "e3f4905e",
   "metadata": {},
   "outputs": [
    {
     "name": "stdout",
     "output_type": "stream",
     "text": [
      "   stop_date stop_time\n",
      "0 2020-01-01  00:00:00\n",
      "1 2020-01-01  00:01:00\n",
      "2 2020-01-01  00:02:00\n",
      "3 2020-01-01  00:03:00\n",
      "4 2020-01-01  00:04:00\n",
      "stop_date             datetime64[ns]\n",
      "stop_time                     object\n",
      "country_name                  object\n",
      "driver_gender                 object\n",
      "driver_age_raw                 int64\n",
      "driver_age                     int64\n",
      "driver_race                   object\n",
      "violation_raw                 object\n",
      "violation                     object\n",
      "search_conducted                bool\n",
      "stop_outcome                  object\n",
      "is_arrested                     bool\n",
      "stop_duration                 object\n",
      "drugs_related_stop              bool\n",
      "vehicle_number                object\n",
      "stop_timestamp        datetime64[ns]\n",
      "dtype: object\n"
     ]
    }
   ],
   "source": [
    "df['stop_timestamp'] = pd.to_datetime(\n",
    "    df['stop_date'].astype(str) + ' ' + df['stop_time'].astype(str),\n",
    "    errors='coerce'\n",
    ")\n",
    "# Confirm the result\n",
    "print(df[['stop_date', 'stop_time']].head())\n",
    "print(df.dtypes)"
   ]
  },
  {
   "cell_type": "code",
   "execution_count": 154,
   "id": "9a8020d7",
   "metadata": {},
   "outputs": [
    {
     "name": "stdout",
     "output_type": "stream",
     "text": [
      "stop_date             0\n",
      "stop_time             0\n",
      "country_name          0\n",
      "driver_gender         0\n",
      "driver_age_raw        0\n",
      "driver_age            0\n",
      "driver_race           0\n",
      "violation_raw         0\n",
      "violation             0\n",
      "search_conducted      0\n",
      "stop_outcome          0\n",
      "is_arrested           0\n",
      "stop_duration         0\n",
      "drugs_related_stop    0\n",
      "vehicle_number        0\n",
      "stop_timestamp        0\n",
      "dtype: int64\n"
     ]
    }
   ],
   "source": [
    "print(df.isnull().sum())"
   ]
  },
  {
   "cell_type": "markdown",
   "id": "f38ab901",
   "metadata": {},
   "source": []
  },
  {
   "cell_type": "code",
   "execution_count": 155,
   "id": "2e611234",
   "metadata": {},
   "outputs": [
    {
     "name": "stdout",
     "output_type": "stream",
     "text": [
      "Total rows in dataset: 65538\n"
     ]
    }
   ],
   "source": [
    "print(f\"Total rows in dataset: {len(df)}\")"
   ]
  },
  {
   "cell_type": "code",
   "execution_count": 156,
   "id": "545ed09b",
   "metadata": {},
   "outputs": [],
   "source": [
    "import psycopg2\n",
    "import pandas as pd"
   ]
  },
  {
   "cell_type": "code",
   "execution_count": 157,
   "id": "3dea9065",
   "metadata": {},
   "outputs": [
    {
     "name": "stdout",
     "output_type": "stream",
     "text": [
      "Connected to: ('PostgreSQL 17.5 on x86_64-windows, compiled by msvc-19.44.35209, 64-bit',)\n"
     ]
    }
   ],
   "source": [
    "#connect to postgresql database\n",
    "import psycopg2\n",
    "\n",
    "# Establish connection\n",
    "connection = psycopg2.connect(\n",
    "    host=\"localhost\",                # Server address\n",
    "    database=\"secure_police_db\",     # Database name\n",
    "    user=\"postgres\",                 # Your username\n",
    "    password=\"10987654321\"           # Your password\n",
    ")\n",
    "\n",
    "# Create a cursor object for executing queries\n",
    "cursor = connection.cursor()\n",
    "\n",
    "# Test the connection with a simple query\n",
    "cursor.execute(\"SELECT version();\")\n",
    "print(\"Connected to:\", cursor.fetchone())"
   ]
  },
  {
   "cell_type": "code",
   "execution_count": 158,
   "id": "810c2dea",
   "metadata": {},
   "outputs": [],
   "source": [
    "cursor.execute(\"\"\"\n",
    "CREATE TABLE IF NOT EXISTS police_logs (\n",
    "    id SERIAL PRIMARY KEY,\n",
    "    stop_date DATE,\n",
    "    stop_time TIME,\n",
    "    country_name VARCHAR(100),\n",
    "    driver_gender VARCHAR(10),\n",
    "    driver_age INT,\n",
    "    driver_race VARCHAR(50),\n",
    "    violation VARCHAR(100),\n",
    "    search_conducted BOOLEAN,\n",
    "    search_type VARCHAR(50),\n",
    "    stop_outcome VARCHAR(100),\n",
    "    drugs_related_stop BOOLEAN,\n",
    "    stop_duration VARCHAR(50),\n",
    "    vehicle_number VARCHAR(50),\n",
    "    timestamp TIMESTAMP\n",
    ")\n",
    "\"\"\")\n",
    "connection.commit()"
   ]
  },
  {
   "cell_type": "code",
   "execution_count": 159,
   "id": "c7ec145a",
   "metadata": {},
   "outputs": [
    {
     "name": "stdout",
     "output_type": "stream",
     "text": [
      "🧮 Rows currently in police_logs: 0\n"
     ]
    }
   ],
   "source": [
    "cursor.execute(\"SELECT COUNT(*) FROM police_logs;\")\n",
    "print(f\"🧮 Rows currently in police_logs: {cursor.fetchone()[0]}\")\n"
   ]
  },
  {
   "cell_type": "code",
   "execution_count": 160,
   "id": "d0f56792",
   "metadata": {},
   "outputs": [
    {
     "name": "stdout",
     "output_type": "stream",
     "text": [
      "Total missing entries in the dataset: 0\n"
     ]
    }
   ],
   "source": [
    "total_missing = df.isnull().sum().sum()\n",
    "print(f\"Total missing entries in the dataset: {total_missing}\")\n"
   ]
  },
  {
   "cell_type": "code",
   "execution_count": 161,
   "id": "adf088d4",
   "metadata": {},
   "outputs": [],
   "source": [
    "#Replace NaN values with None\n",
    "df = df.where(pd.notnull(df), None)"
   ]
  },
  {
   "cell_type": "code",
   "execution_count": 162,
   "id": "94a9262c",
   "metadata": {},
   "outputs": [],
   "source": [
    "\n",
    "# Insert data into the PostgreSQL table\n",
    "insert_query = \"\"\"\n",
    "INSERT INTO police_logs (\n",
    "    stop_date, stop_time, country_name, driver_gender, driver_age, \n",
    "    driver_race,violation, search_conducted, search_type, \n",
    "    stop_outcome, drugs_related_stop, stop_duration, vehicle_number, timestamp\n",
    ") VALUES (%s, %s, %s, %s, %s, %s, %s, %s, %s, %s, %s, %s, %s, %s)\n",
    "\"\"\""
   ]
  },
  {
   "cell_type": "code",
   "execution_count": 163,
   "id": "e5ad1325",
   "metadata": {},
   "outputs": [],
   "source": [
    "#Iterate over the DataFrame and insert each row\n",
    "for _, row in df.iterrows():\n",
    "    cursor.execute(insert_query, (\n",
    "        row['stop_date'],\n",
    "        row['stop_time'],\n",
    "        row.get('country_name'),\n",
    "        row.get('driver_gender'),\n",
    "        int(row['driver_age']) if pd.notnull(row['driver_age']) else None,\n",
    "        row.get('driver_race'),\n",
    "        row.get('violation'),\n",
    "        row['search_conducted'] if pd.notnull(row['search_conducted']) else None,\n",
    "        row.get('search_type'),\n",
    "        row.get('stop_outcome'),\n",
    "        row['drugs_related_stop'] if pd.notnull(row['drugs_related_stop']) else None,\n",
    "        row.get('stop_duration'),\n",
    "        row['vehicle_number'] if pd.notnull(row['vehicle_number']) else f\"VEH{row.name}\",\n",
    "        row['stop_timestamp']\n",
    "    ))\n",
    "\n",
    "connection.commit()"
   ]
  },
  {
   "cell_type": "code",
   "execution_count": 164,
   "id": "dcab145f",
   "metadata": {},
   "outputs": [
    {
     "name": "stdout",
     "output_type": "stream",
     "text": [
      "Total rows: 65538\n"
     ]
    }
   ],
   "source": [
    "print(f\"Total rows: {df.shape[0]}\")\n"
   ]
  },
  {
   "cell_type": "code",
   "execution_count": 165,
   "id": "5e457d39",
   "metadata": {},
   "outputs": [
    {
     "name": "stdout",
     "output_type": "stream",
     "text": [
      "Raw CSV rows: 65538\n",
      "After cleaning: 65538\n"
     ]
    },
    {
     "name": "stderr",
     "output_type": "stream",
     "text": [
      "C:\\Users\\Balasubramanian\\AppData\\Local\\Temp\\ipykernel_17808\\2291146326.py:1: DtypeWarning: Columns (10) have mixed types. Specify dtype option on import or set low_memory=False.\n",
      "  print(\"Raw CSV rows:\", pd.read_csv(file_path).shape[0])\n"
     ]
    }
   ],
   "source": [
    "print(\"Raw CSV rows:\", pd.read_csv(file_path).shape[0])\n",
    "print(\"After cleaning:\", df.shape[0])\n"
   ]
  }
 ],
 "metadata": {
  "kernelspec": {
   "display_name": ".venv",
   "language": "python",
   "name": "python3"
  },
  "language_info": {
   "codemirror_mode": {
    "name": "ipython",
    "version": 3
   },
   "file_extension": ".py",
   "mimetype": "text/x-python",
   "name": "python",
   "nbconvert_exporter": "python",
   "pygments_lexer": "ipython3",
   "version": "3.13.5"
  }
 },
 "nbformat": 4,
 "nbformat_minor": 5
}
